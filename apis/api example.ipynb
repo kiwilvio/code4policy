{
 "cells": [
  {
   "cell_type": "markdown",
   "metadata": {},
   "source": [
    "## APIs with Python"
   ]
  },
  {
   "cell_type": "code",
   "execution_count": 1,
   "metadata": {},
   "outputs": [],
   "source": [
    "import requests"
   ]
  },
  {
   "cell_type": "code",
   "execution_count": 2,
   "metadata": {},
   "outputs": [],
   "source": [
    "url = \"https://api.open.fec.gov/v1/candidate/H8WI01024/?sort=name&page=1&api_key=DEMO_KEY&per_page=20\"\n",
    "\n",
    "# Issue a GET reequest to the URL specified\n",
    "response = requests.get(url)\n",
    "\n",
    "# Parse JSON data out from the response\n",
    "data = response.json()"
   ]
  },
  {
   "cell_type": "code",
   "execution_count": 3,
   "metadata": {},
   "outputs": [
    {
     "data": {
      "text/plain": [
       "{'api_version': '1.0',\n",
       " 'results': [{'active_through': 2018,\n",
       "   'address_street_1': 'PO BOX 1488',\n",
       "   'has_raised_funds': True,\n",
       "   'address_zip': '535471488',\n",
       "   'state': 'WI',\n",
       "   'load_date': '2019-03-27T16:02:41+00:00',\n",
       "   'cycles': [1998,\n",
       "    2000,\n",
       "    2002,\n",
       "    2004,\n",
       "    2006,\n",
       "    2008,\n",
       "    2010,\n",
       "    2012,\n",
       "    2014,\n",
       "    2016,\n",
       "    2018,\n",
       "    2020,\n",
       "    2022],\n",
       "   'last_file_date': '2016-12-05',\n",
       "   'federal_funds_flag': False,\n",
       "   'election_districts': ['01',\n",
       "    '01',\n",
       "    '01',\n",
       "    '01',\n",
       "    '01',\n",
       "    '01',\n",
       "    '01',\n",
       "    '01',\n",
       "    '01',\n",
       "    '01',\n",
       "    '01'],\n",
       "   'district_number': 1,\n",
       "   'office_full': 'House',\n",
       "   'district': '01',\n",
       "   'incumbent_challenge': 'I',\n",
       "   'candidate_status': 'P',\n",
       "   'candidate_id': 'H8WI01024',\n",
       "   'election_years': [1998,\n",
       "    2000,\n",
       "    2002,\n",
       "    2004,\n",
       "    2006,\n",
       "    2008,\n",
       "    2010,\n",
       "    2012,\n",
       "    2014,\n",
       "    2016,\n",
       "    2018],\n",
       "   'candidate_inactive': False,\n",
       "   'party': 'REP',\n",
       "   'address_street_2': None,\n",
       "   'last_f2_date': '2016-12-05',\n",
       "   'flags': 'H8WI01024',\n",
       "   'incumbent_challenge_full': 'Incumbent',\n",
       "   'first_file_date': '1997-10-28',\n",
       "   'office': 'H',\n",
       "   'party_full': 'REPUBLICAN PARTY',\n",
       "   'name': 'RYAN, PAUL D.',\n",
       "   'address_city': 'JANESVILLE',\n",
       "   'address_state': 'WI'}],\n",
       " 'pagination': {'page': 1, 'count': 1, 'pages': 1, 'per_page': 20}}"
      ]
     },
     "execution_count": 3,
     "metadata": {},
     "output_type": "execute_result"
    }
   ],
   "source": [
    "data"
   ]
  },
  {
   "cell_type": "code",
   "execution_count": null,
   "metadata": {},
   "outputs": [],
   "source": []
  }
 ],
 "metadata": {
  "kernelspec": {
   "display_name": "Python 3",
   "language": "python",
   "name": "python3"
  },
  "language_info": {
   "codemirror_mode": {
    "name": "ipython",
    "version": 3
   },
   "file_extension": ".py",
   "mimetype": "text/x-python",
   "name": "python",
   "nbconvert_exporter": "python",
   "pygments_lexer": "ipython3",
   "version": "3.8.5"
  }
 },
 "nbformat": 4,
 "nbformat_minor": 4
}
